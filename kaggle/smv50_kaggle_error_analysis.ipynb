{
 "cells": [
  {
   "cell_type": "markdown",
   "id": "a9cf044f",
   "metadata": {},
   "source": [
    "# 30 — Error Analysis (μ/σ over 283 bins)\n\n",
    "**Goal:** quantify and visualize model errors for Ariel predictions (μ, σ across 283 bins).\n\n",
    "**Focus**\n",
    "- Env detection & path resolution (Kaggle vs local repo)\n",
    "- Robust loaders for **ground truth** and **predictions**\n",
    "- Per-bin residual stats, global metrics (MAE/MSE/RMSE, GLL approximation)\n",
    "- **Uncertainty calibration** checks (coverage, PIT)\n",
    "- Reliability diagrams (σ vs |error|), residual histograms, per-bin RMSE\n",
    "- Artifact export: CSV/JSON summaries in `outputs/`\n",
    "\n",
    "> Pure matplotlib, zero Internet; fast to run."
   ]
  },
  {
   "cell_type": "markdown",
   "id": "fa2a8dbb",
   "metadata": {},
   "source": [
    "## 🧭 Environment & Paths"
   ]
  },
  {
   "cell_type": "code",
   "execution_count": null,
   "id": "e859e703",
   "metadata": {},
   "outputs": [],
   "source": [
    "import os, sys, platform, math, glob, json\n",
    "from pathlib import Path\n",
    "from typing import Optional, Dict, Tuple, List\n",
    "import numpy as np\n",
    "import pandas as pd\n",
    "import matplotlib.pyplot as plt\n",
    "BIN_COUNT = 283\n",
    "COMP_DIR = Path('/kaggle/input/ariel-data-challenge-2025')\n",
    "REPO_ROOT_CANDIDATES = [Path.cwd(), Path.cwd().parent, Path.cwd().parent.parent]\n",
    "def detect_env() -> Dict:\n",
    "    env = { 'is_kaggle': COMP_DIR.exists(), 'platform': platform.platform(), 'python': sys.version.replace('\\n',' '), 'cwd': str(Path.cwd()), 'repo_root': None }\n",
    "    for c in REPO_ROOT_CANDIDATES:\n",
    "        if (c/'configs').exists() and (c/'schemas').exists(): env['repo_root'] = str(c.resolve()); break\n",
    "    return env\n",
    "ENV = detect_env()\n",
    "def resolve_paths(env: Dict) -> Dict[str, Optional[Path]]:\n",
    "    repo_root = Path(env['repo_root']) if env['repo_root'] else None\n",
    "    out = { 'competition': COMP_DIR if env['is_kaggle'] else None, 'repo_root': repo_root, 'data_processed': (repo_root/'data'/'processed') if repo_root else None, 'artifacts': (repo_root/'artifacts') if repo_root and (repo_root/'artifacts').exists() else None, 'outputs': Path('outputs') }\n",
    "    out['outputs'].mkdir(parents=True, exist_ok=True)\n",
    "    return out\n",
    "PATHS = resolve_paths(ENV)\n",
    "ENV, PATHS"
   ]
  },
  {
   "cell_type": "markdown",
   "id": "ab362811",
   "metadata": {},
   "source": [
    "## 📥 Load Ground Truth & Predictions\nAutomatically searches common locations; you can also place CSVs in `outputs/` and name them `*pred*.csv`."
   ]
  },
  {
   "cell_type": "code",
   "execution_count": null,
   "id": "3de920b7",
   "metadata": {},
   "outputs": [],
   "source": [
    "def find_file(candidates: List[Path]) -> Optional[Path]:\n",
    "    for p in candidates:\n",
    "        if p and p.exists(): return p\n",
    "    return None\n",
    "gt_candidates: List[Path] = []\n",
    "pred_candidates: List[Path] = []\n",
    "if PATHS['competition']: gt_candidates += [PATHS['competition']/ 'train.csv']\n",
    "if PATHS['data_processed']: gt_candidates += list(PATHS['data_processed'].glob('**/train*.csv'))\n",
    "if PATHS['artifacts']:\n",
    "    pred_candidates += list(PATHS['artifacts'].glob('**/*prediction*.csv'))\n",
    "    pred_candidates += list(PATHS['artifacts'].glob('**/*pred*.csv'))\n",
    "pred_candidates += list(Path('outputs').glob('*pred*.csv'))\n",
    "pred_candidates += list(Path('.').glob('*pred*.csv'))\n",
    "GT_PATH = find_file(gt_candidates)\n",
    "PRED_PATH = find_file(pred_candidates)\n",
    "GT_PATH, PRED_PATH"
   ]
  },
  {
   "cell_type": "code",
   "execution_count": null,
   "id": "23f8a35d",
   "metadata": {},
   "outputs": [],
   "source": [
    "def load_df(path: Optional[Path], nrows: Optional[int] = None) -> Optional[pd.DataFrame]:\n",
    "    if not path or not path.exists(): return None\n",
    "    try:\n",
    "        if path.suffix == '.csv': return pd.read_csv(path, nrows=nrows)\n",
    "        elif path.suffix == '.parquet':\n",
    "            import pyarrow.parquet as pq\n",
    "            return pq.read_table(path).to_pandas()\n",
    "    except Exception as e:\n",
    "        print(f'Failed to load {path}: {e}')\n",
    "    return None\n",
    "gt = load_df(GT_PATH)\n",
    "pred = load_df(PRED_PATH)\n",
    "print('Ground truth shape:', None if gt is None else gt.shape)\n",
    "print('Predictions shape:', None if pred is None else pred.shape)"
   ]
  },
  {
   "cell_type": "markdown",
   "id": "b37bf93e",
   "metadata": {},
   "source": [
    "### Column Discovery & Merge\nWe detect μ/σ columns and a key for alignment; predictions may not include σ."
   ]
  },
  {
   "cell_type": "code",
   "execution_count": null,
   "id": "fdcca7c9",
   "metadata": {},
   "outputs": [],
   "source": [
    "def discover_columns(df: pd.DataFrame, kind_prefix: str) -> List[str]:\n",
    "    return [c for c in df.columns if c.startswith(kind_prefix)]\n",
    "def find_key(df: pd.DataFrame) -> Optional[str]:\n",
    "    for k in ('id','sample_id','object_id'):\n",
    "        if k in df.columns: return k\n",
    "    return df.columns[0] if len(df.columns) else None\n",
    "cols = {}\n",
    "if gt is not None:\n",
    "    cols['gt_mu'] = discover_columns(gt,'mu_')\n",
    "    cols['gt_sigma'] = discover_columns(gt,'sigma_')\n",
    "    cols['key_gt'] = find_key(gt)\n",
    "if pred is not None:\n",
    "    cols['pred_mu'] = discover_columns(pred,'mu_')\n",
    "    cols['pred_sigma'] = discover_columns(pred,'sigma_')\n",
    "    cols['key_pred'] = find_key(pred)\n",
    "cols"
   ]
  },
  {
   "cell_type": "code",
   "execution_count": null,
   "id": "2737efc5",
   "metadata": {},
   "outputs": [],
   "source": [
    "issues: List[str] = []\n",
    "def validate_bin_count(mu_cols: List[str], expected: int = BIN_COUNT) -> None:\n",
    "    if mu_cols and len(mu_cols) != expected: issues.append(f'Expected {expected} mu_* columns, found {len(mu_cols)}')\n",
    "if gt is not None: validate_bin_count(cols.get('gt_mu', []))\n",
    "if pred is not None: validate_bin_count(cols.get('pred_mu', []))\n",
    "if gt is not None and pred is not None:\n",
    "    key_gt, key_pred = cols.get('key_gt'), cols.get('key_pred')\n",
    "    if key_gt is None or key_pred is None:\n",
    "        issues.append('Could not find join key in GT or PRED.'); merged = None\n",
    "    else:\n",
    "        merged = pd.merge(gt, pred, left_on=key_gt, right_on=key_pred, how='inner', suffixes=('_gt','_pred'))\n",
    "else:\n",
    "    merged = None\n",
    "(len(issues), issues), (None if merged is None else merged.shape)"
   ]
  },
  {
   "cell_type": "markdown",
   "id": "b82b8474",
   "metadata": {},
   "source": [
    "## 🔢 Residuals & Metrics (MAE/MSE/RMSE, approx GLL)"
   ]
  },
  {
   "cell_type": "code",
   "execution_count": null,
   "id": "4bfaafad",
   "metadata": {},
   "outputs": [],
   "source": [
    "def residuals_matrix(df: pd.DataFrame, cols_mu_gt: List[str], cols_mu_pred: List[str]) -> Optional[np.ndarray]:\n",
    "    if df is None or not cols_mu_gt or not cols_mu_pred: return None\n",
    "    try:\n",
    "        mu_gt = df[cols_mu_gt].to_numpy(dtype=float); mu_pr = df[cols_mu_pred].to_numpy(dtype=float)\n",
    "        if mu_gt.shape != mu_pr.shape: return None\n",
    "        return mu_pr - mu_gt\n",
    "    except Exception: return None\n",
    "def global_metrics(res: np.ndarray) -> Dict[str, float]:\n",
    "    r = res.flatten(); return {'MAE': float(np.mean(np.abs(r))), 'MSE': float(np.mean(r**2)), 'RMSE': float(np.sqrt(np.mean(r**2)))}\n",
    "def approx_gll(mu_gt: np.ndarray, mu_pr: np.ndarray, sigma: Optional[np.ndarray]) -> float:\n",
    "    res = mu_pr - mu_gt\n",
    "    if sigma is None:\n",
    "        s = res.std(axis=0, ddof=1); sigma = np.maximum(s[None,:], 1e-6)\n",
    "    else:\n",
    "        sigma = np.maximum(sigma, 1e-6)\n",
    "    nll = 0.5*np.log(2*np.pi*sigma**2) + 0.5*(res**2)/(sigma**2)\n",
    "    return float(np.mean(nll))\n",
    "res = residuals_matrix(merged, cols.get('gt_mu', []), cols.get('pred_mu', []))\n",
    "metrics = {}; gll_value = None\n",
    "if res is not None:\n",
    "    metrics = global_metrics(res)\n",
    "    mu_gt = merged[cols['gt_mu']].to_numpy(dtype=float)\n",
    "    mu_pr = merged[cols['pred_mu']].to_numpy(dtype=float)\n",
    "    if cols.get('pred_sigma'): sg = merged[cols['pred_sigma']].to_numpy(dtype=float)\n",
    "    elif cols.get('gt_sigma'): sg = merged[cols['gt_sigma']].to_numpy(dtype=float)\n",
    "    else: sg = None\n",
    "    gll_value = approx_gll(mu_gt, mu_pr, sg)\n",
    "metrics, gll_value"
   ]
  },
  {
   "cell_type": "markdown",
   "id": "982ff93a",
   "metadata": {},
   "source": [
    "## 📈 Plots (residuals, per-bin RMSE, reliability)"
   ]
  },
  {
   "cell_type": "code",
   "execution_count": null,
   "id": "33f09f9d",
   "metadata": {},
   "outputs": [],
   "source": [
    "def plot_hist_residuals(res: Optional[np.ndarray], bins: int = 80):\n",
    "    if res is None: return\n",
    "    r = res.flatten(); plt.figure(figsize=(6,4)); plt.hist(r, bins=bins)\n",
    "    plt.xlabel('residual'); plt.ylabel('count'); plt.title('Residuals (global)'); plt.tight_layout(); plt.show()\n",
    "def plot_perbin_rmse(res: Optional[np.ndarray]):\n",
    "    if res is None: return\n",
    "    rmse = np.sqrt(np.mean(res**2, axis=0)); x = np.arange(len(rmse))\n",
    "    plt.figure(figsize=(7,4)); plt.plot(x, rmse, lw=1)\n",
    "    plt.xlabel('bin index'); plt.ylabel('RMSE'); plt.title('Per-bin RMSE'); plt.tight_layout(); plt.show()\n",
    "def reliability_curve(abs_res: np.ndarray, sigma: np.ndarray, nbins: int = 20):\n",
    "    order = np.argsort(sigma); abs_res, sigma = abs_res[order], sigma[order]\n",
    "    edges = np.linspace(sigma.min(), sigma.max(), nbins+1); idx = np.digitize(sigma, edges) - 1\n",
    "    xs, ys = [], []\n",
    "    for b in range(nbins):\n",
    "        m = idx == b\n",
    "        if m.any(): xs.append(sigma[m].mean()); ys.append(abs_res[m].mean())\n",
    "    return np.array(xs), np.array(ys)\n",
    "def plot_reliability(res: Optional[np.ndarray], sigma: Optional[np.ndarray]):\n",
    "    if res is None or sigma is None: return\n",
    "    abs_r = np.abs(res).flatten(); s = sigma.flatten()\n",
    "    if len(s) != len(abs_r): return\n",
    "    x, y = reliability_curve(abs_r, s, nbins=25)\n",
    "    plt.figure(figsize=(6,4)); plt.plot(x, y, '.', ms=4)\n",
    "    plt.xlabel('predicted sigma'); plt.ylabel('mean |residual|'); plt.title('Reliability (|res| vs σ)'); plt.tight_layout(); plt.show()\n",
    "plot_hist_residuals(res); plot_perbin_rmse(res)\n",
    "sigma_for_rel = None\n",
    "if merged is not None and cols.get('pred_sigma'): sigma_for_rel = merged[cols['pred_sigma']].to_numpy(dtype=float)\n",
    "elif merged is not None and cols.get('gt_sigma'): sigma_for_rel = merged[cols['gt_sigma']].to_numpy(dtype=float)\n",
    "plot_reliability(res, sigma_for_rel)"
   ]
  },
  {
   "cell_type": "markdown",
   "id": "bafeee7c",
   "metadata": {},
   "source": [
    "## 🎯 Coverage & PIT (Uncertainty Calibration)"
   ]
  },
  {
   "cell_type": "code",
   "execution_count": null,
   "id": "0b6f6c14",
   "metadata": {},
   "outputs": [],
   "source": [
    "from math import erf\n",
    "def normal_cdf(z: np.ndarray) -> np.ndarray: return 0.5*(1.0 + erf(z/np.sqrt(2.0)))\n",
    "def coverage(mu: np.ndarray, sigma: np.ndarray, gt: np.ndarray, k: float) -> float:\n",
    "    z = np.abs(gt - mu) / np.maximum(sigma, 1e-9); return float(np.mean(z <= k))\n",
    "coverage_stats = {}; pit_hist = None\n",
    "if merged is not None and cols.get('pred_mu') and cols.get('gt_mu') and sigma_for_rel is not None:\n",
    "    mu_pr = merged[cols['pred_mu']].to_numpy(dtype=float); mu_gt = merged[cols['gt_mu']].to_numpy(dtype=float); sg = sigma_for_rel\n",
    "    coverage_stats['k=1'] = coverage(mu_pr, sg, mu_gt, k=1.0); coverage_stats['k=2'] = coverage(mu_pr, sg, mu_gt, k=2.0)\n",
    "    z = (mu_gt - mu_pr)/np.maximum(sg, 1e-9); pit = normal_cdf(z).flatten()\n",
    "    pit_hist = np.histogram(pit, bins=20, range=(0,1))[0].astype(float); pit_hist /= pit_hist.sum()\n",
    "coverage_stats, (None if pit_hist is None else pit_hist[:5])"
   ]
  },
  {
   "cell_type": "code",
   "execution_count": null,
   "id": "f4dbe6a5",
   "metadata": {},
   "outputs": [],
   "source": [
    "if pit_hist is not None:\n",
    "    plt.figure(figsize=(6,4))\n",
    "    plt.bar(np.linspace(0.025,0.975,20), pit_hist, width=0.045)\n",
    "    plt.xlabel('PIT bin center'); plt.ylabel('frequency'); plt.title('PIT histogram (should be ~uniform)')\n",
    "    plt.tight_layout(); plt.show()"
   ]
  },
  {
   "cell_type": "markdown",
   "id": "50f6779a",
   "metadata": {},
   "source": [
    "## 🧾 Export Reports"
   ]
  },
  {
   "cell_type": "code",
   "execution_count": null,
   "id": "02f7d0a3",
   "metadata": {},
   "outputs": [],
   "source": [
    "summary = {\n",
    "    'env': ENV,\n",
    "    'shapes': {\n",
    "        'gt': None if gt is None else list(gt.shape),\n",
    "        'pred': None if pred is None else list(pred.shape),\n",
    "        'merged': None if merged is None else list(merged.shape),\n",
    "    },\n",
    "    'metrics': metrics,\n",
    "    'gll': gll_value,\n",
    "    'coverage': coverage_stats,\n",
    "    'issues': issues,\n",
    "}\n",
    "Path('outputs').mkdir(exist_ok=True, parents=True)\n",
    "with open('outputs/error_summary.json', 'w', encoding='utf-8') as f: json.dump(summary, f, indent=2)\n",
    "if res is not None:\n",
    "    rmse = np.sqrt(np.mean(res**2, axis=0))\n",
    "    pd.DataFrame({'bin': np.arange(len(rmse)), 'rmse': rmse}).to_csv('outputs/per_bin_rmse.csv', index=False)\n",
    "print('Wrote outputs/error_summary.json and (optionally) outputs/per_bin_rmse.csv')"
   ]
  },
  {
   "cell_type": "markdown",
   "id": "d21a1660",
   "metadata": {},
   "source": [
    "## Next Steps\n",
    "- Harmonize column names with your submission format and training pipeline\n",
    "- Add CRPS or weighted GLL consistent with the challenge metric if needed\n",
    "- Integrate with DVC stage to track metrics/artifacts across runs\n",
    "\n",
    "**Done.** ✅"
   ]
  }
 ],
 "metadata": {
  "kernelspec": {
   "display_name": "Python 3",
   "language": "python",
   "name": "python3"
  },
  "language_info": {
   "name": "python",
   "version": "3.x"
  }
 },
 "nbformat": 4,
 "nbformat_minor": 5
}
